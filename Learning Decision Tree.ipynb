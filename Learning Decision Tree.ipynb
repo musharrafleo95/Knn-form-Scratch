{
 "cells": [
  {
   "cell_type": "code",
   "execution_count": 3,
   "metadata": {},
   "outputs": [
    {
     "name": "stdout",
     "output_type": "stream",
     "text": [
      "['Orange', 'Apple']\n"
     ]
    }
   ],
   "source": [
    "from sklearn import tree\n",
    "features = [[130,0], [140,0], [150,1], [170, 1] ] #0 for smooth and 1 for bumpy\n",
    "labels = [0, 0, 1, 1] #0 for apple and 1 for orange\n",
    "clf = tree.DecisionTreeClassifier()\n",
    "clf = clf.fit(features, labels)\n",
    "answer = clf.predict([[160,1],[135,0]])\n",
    "answerWithLabels = []\n",
    "for fruit in answer:\n",
    "    if fruit == 1:\n",
    "        answerWithLabels.append(\"Orange\")\n",
    "    else:\n",
    "        answerWithLabels.append(\"Apple\")\n",
    "        \n",
    "print(answerWithLabels)\n",
    "        "
   ]
  },
  {
   "cell_type": "code",
   "execution_count": 25,
   "metadata": {},
   "outputs": [
    {
     "name": "stdout",
     "output_type": "stream",
     "text": [
      "[0 1 2]\n",
      "[0 1 2]\n"
     ]
    }
   ],
   "source": [
    "from sklearn.datasets import load_iris\n",
    "import numpy as np\n",
    "iris = load_iris()\n",
    "'''print(iris.feature_names) #give all the feature name\n",
    "print(iris.target_names)   #give all the target variable name\n",
    "print(iris.data[0])  #give the feature data of first row\n",
    "print(iris.target[0]) #give the label of first row\n",
    "print(len(iris.target))\n",
    "for i in range(len(iris.target)):\n",
    "    print(iris.data[i],iris.target[i])'''\n",
    "\n",
    "test_idx = [0, 50, 100] #rows which we will remove from training data and used in testing data\n",
    "\n",
    "#training data\n",
    "train_data = np.delete(iris.data, test_idx, axis = 0)\n",
    "train_label = np.delete(iris.target, test_idx)\n",
    "#testing data\n",
    "test_data = iris.data[test_idx] \n",
    "test_label = iris.target[test_idx]\n",
    "\n",
    "clf = tree.DecisionTreeClassifier()\n",
    "clf.fit(train_data, train_label)\n",
    "print(clf.predict(test_data))\n",
    "print(test_label)\n"
   ]
  }
 ],
 "metadata": {
  "kernelspec": {
   "display_name": "Python 3",
   "language": "python",
   "name": "python3"
  },
  "language_info": {
   "codemirror_mode": {
    "name": "ipython",
    "version": 3
   },
   "file_extension": ".py",
   "mimetype": "text/x-python",
   "name": "python",
   "nbconvert_exporter": "python",
   "pygments_lexer": "ipython3",
   "version": "3.7.0"
  }
 },
 "nbformat": 4,
 "nbformat_minor": 2
}
